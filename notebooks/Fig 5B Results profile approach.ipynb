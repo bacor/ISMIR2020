{
 "cells": [
  {
   "cell_type": "markdown",
   "metadata": {},
   "source": [
    "# Figure 5B: Results of profile experiments"
   ]
  },
  {
   "cell_type": "code",
   "execution_count": 1,
   "metadata": {},
   "outputs": [],
   "source": [
    "import os\n",
    "import pandas as pd\n",
    "import seaborn as sns\n",
    "import matplotlib.pyplot as plt\n",
    "import matplotlib\n",
    "matplotlib.style.use('styles.mplstyle')\n",
    "from helpers import highlight_highest_scores\n",
    "from helpers import score_heatmap\n",
    "from helpers import cm2inch"
   ]
  },
  {
   "cell_type": "markdown",
   "metadata": {},
   "source": [
    "## Load all scores"
   ]
  },
  {
   "cell_type": "code",
   "execution_count": 2,
   "metadata": {},
   "outputs": [],
   "source": [
    "scores = []\n",
    "runs = []\n",
    "for run in range(5):\n",
    "    scores_fn = f'../results/run-{run}/profile-run-{run}/profile-run-{run}-scores.csv'\n",
    "    if os.path.exists(scores_fn):\n",
    "        scores.append(pd.read_csv(scores_fn, index_col=0))\n",
    "        runs.append(run)\n",
    "    else:\n",
    "        print(f'Results for run {run} could not be found')"
   ]
  },
  {
   "cell_type": "code",
   "execution_count": 3,
   "metadata": {},
   "outputs": [],
   "source": [
    "df = (pd.concat(scores, keys=runs, names=['run', 'index'])\n",
    "        .reset_index()\n",
    "        .drop('index', axis=1))"
   ]
  },
  {
   "cell_type": "code",
   "execution_count": 4,
   "metadata": {},
   "outputs": [],
   "source": [
    "means = df.groupby(['subset', 'genre', 'profile']).mean() * 100\n",
    "stds  = df.groupby(['subset', 'genre', 'profile']).std() * 100"
   ]
  },
  {
   "cell_type": "markdown",
   "metadata": {},
   "source": [
    "## Make a heatmap with scores"
   ]
  },
  {
   "cell_type": "code",
   "execution_count": 5,
   "metadata": {},
   "outputs": [],
   "source": [
    "PROFILES = ['pitch_class', 'pitch', 'repetition']\n",
    "GENRES = ['responsory', 'antiphon']"
   ]
  },
  {
   "cell_type": "code",
   "execution_count": 6,
   "metadata": {},
   "outputs": [],
   "source": [
    "def reshape_df(df, score, subset, split, index=PROFILES, columns=GENRES):\n",
    "    \"\"\"Reshape a dataframe with all scores to the slice of interest:\n",
    "    with genres as columns and profiles as index, and containing only\n",
    "    one type of score as values\"\"\"\n",
    "    return (\n",
    "        pd.pivot_table(\n",
    "            df.loc[subset],\n",
    "            columns='genre',\n",
    "            index='profile', \n",
    "            values=f'{split}_{score}'\n",
    "        ).loc[index, columns]\n",
    "    )"
   ]
  },
  {
   "cell_type": "code",
   "execution_count": 7,
   "metadata": {},
   "outputs": [],
   "source": [
    "def show_scores(means, stds, score, subset, split, \n",
    "                line_length=.45, line_y=.3, lh=.35, tp=.15,\n",
    "                labels=True, title=True,\n",
    "                fmt='${mu:.1f}^{{\\pm {sigma:.1f}}}$'):\n",
    "    \"\"\"Generate a heatmap with scores\"\"\"\n",
    "    subset_means = reshape_df(means, score, subset, split)\n",
    "    subset_stds = reshape_df(stds, score, subset, split)\n",
    "    score_heatmap(subset_means, subset_stds,\n",
    "                  vmin=0, vmax=100, cbar=False,\n",
    "                  cmap='viridis', fmt=fmt,\n",
    "                  yticklabels=[f.replace('_', ' ') + '\\nprofile' \n",
    "                               for f in PROFILES])\n",
    "    \n",
    "    highlight_highest_scores(subset_means, axis=0, tol=1, \n",
    "                             line_y=line_y, line_length=line_length)\n",
    "    \n",
    "    if labels:\n",
    "        plt.ylabel('profile')\n",
    "        plt.xlabel('genre')\n",
    "    else:\n",
    "        plt.ylabel(None)\n",
    "        plt.xlabel(None)\n",
    "    plt.yticks(rotation=0)\n",
    "    \n",
    "    if title:\n",
    "        title = f'{split.title()} {score.replace(\"weighted_\", \"\")}'\n",
    "        plt.text(0, -tp-2*lh, title, va='bottom', fontweight='bold')\n",
    "        plt.text(0, -tp-lh, f'Profile approach on {subset} data', va='bottom')\n",
    "        plt.text(0, -tp, (\n",
    "            'showing $\\mathrm{mean}^{\\pm\\mathrm{std.dev}}$ '\n",
    "            f'over {len(runs)} runs'\n",
    "            ), va='bottom', size=5.5, alpha=.5)\n",
    "    plt.tight_layout()"
   ]
  },
  {
   "cell_type": "code",
   "execution_count": 8,
   "metadata": {},
   "outputs": [
    {
     "data": {
      "image/png": "[encoded data removed]",
      "text/plain": [
       "<Figure size 324.803x295.276 with 1 Axes>"
      ]
     },
     "metadata": {
      "needs_background": "light"
     },
     "output_type": "display_data"
    }
   ],
   "source": [
    "plt.figure(figsize=cm2inch(5.5, 5), dpi=150)\n",
    "show_scores(means, stds, 'accuracy', 'subset', 'test')"
   ]
  },
  {
   "cell_type": "markdown",
   "metadata": {},
   "source": [
    "## Generate all heatmaps"
   ]
  },
  {
   "cell_type": "code",
   "execution_count": 9,
   "metadata": {},
   "outputs": [],
   "source": [
    "for subset in ['full', 'subset']:\n",
    "    for split in ['train', 'test']:\n",
    "        for score in ['accuracy', 'weighted_f1', 'weighted_precision', 'weighted_recall']:\n",
    "            plt.ioff() # Turn off interactive plotting\n",
    "            plt.figure(figsize=cm2inch(5.5, 5))\n",
    "            show_scores(means, stds, score, subset, split)\n",
    "            fig_fn = f'../figures/fig05b-profile/fig05b-{subset}-{split}-{score}.pdf'\n",
    "            plt.savefig(fig_fn)\n",
    "            plt.close()"
   ]
  },
  {
   "cell_type": "markdown",
   "metadata": {},
   "source": [
    "## Generate plot for final figure"
   ]
  },
  {
   "cell_type": "code",
   "execution_count": 10,
   "metadata": {},
   "outputs": [
    {
     "data": {
      "image/png": "[encoded data removed]",
      "text/plain": [
       "<Figure size 354.331x236.22 with 1 Axes>"
      ]
     },
     "metadata": {
      "needs_background": "light"
     },
     "output_type": "display_data"
    }
   ],
   "source": [
    "cols = 2\n",
    "rows = 3\n",
    "plt.figure(figsize=cm2inch(2*(cols+1), rows+1), dpi=150)\n",
    "show_scores(means, stds, 'weighted_f1', 'full', 'test',\n",
    "           fmt='${mu:.0f}$', line_length=.2, line_y=.25,\n",
    "           labels=False, title=False)\n",
    "plt.savefig(f'../figures/fig05/fig05-profile-test-f1.pdf')"
   ]
  },
  {
   "cell_type": "code",
   "execution_count": null,
   "metadata": {},
   "outputs": [],
   "source": []
  }
 ],
 "metadata": {
  "kernelspec": {
   "display_name": "Python 3",
   "language": "python",
   "name": "python3"
  },
  "language_info": {
   "codemirror_mode": {
    "name": "ipython",
    "version": 3
   },
   "file_extension": ".py",
   "mimetype": "text/x-python",
   "name": "python",
   "nbconvert_exporter": "python",
   "pygments_lexer": "ipython3",
   "version": "3.7.6"
  }
 },
 "nbformat": 4,
 "nbformat_minor": 4
}
