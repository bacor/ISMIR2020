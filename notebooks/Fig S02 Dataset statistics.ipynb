{
 "cells": [
  {
   "cell_type": "markdown",
   "metadata": {},
   "source": [
    "# Figure S2: Dataset statistics"
   ]
  },
  {
   "cell_type": "markdown",
   "metadata": {},
   "source": [
    "Collect some basic statistics about the datasets"
   ]
  },
  {
   "cell_type": "code",
   "execution_count": 1,
   "metadata": {},
   "outputs": [],
   "source": [
    "import pandas as pd\n",
    "import numpy as np\n",
    "import sys\n",
    "sys.path.append('../')\n",
    "from src.volpiano import clean_volpiano, expand_accidentals"
   ]
  },
  {
   "cell_type": "code",
   "execution_count": 2,
   "metadata": {},
   "outputs": [],
   "source": [
    "def clean(volpiano):\n",
    "    return clean_volpiano(expand_accidentals(volpiano, omit_notes=True))"
   ]
  },
  {
   "cell_type": "code",
   "execution_count": 3,
   "metadata": {},
   "outputs": [],
   "source": [
    "def get_statistics(run):\n",
    "    data = []\n",
    "    for genre in ['responsory', 'antiphon']:\n",
    "        for subset in ['full', 'subset']:\n",
    "            total_size = 0\n",
    "            total_chant_lengths = []\n",
    "            for split in ['train', 'test']:\n",
    "                df = pd.read_csv(f'../data/run-{run}/{genre}/{subset}/{split}-chants.csv')\n",
    "                chant_lengths = df.volpiano.map(clean).str.len()\n",
    "                total_size += len(df)\n",
    "                total_chant_lengths.extend(chant_lengths.tolist())\n",
    "                data.append(dict(\n",
    "                    genre=genre,\n",
    "                    subset=subset,\n",
    "                    split=split,\n",
    "                    size=len(df),\n",
    "                    num_notes=sum(chant_lengths),\n",
    "                    avg_length=np.mean(chant_lengths)\n",
    "                ))\n",
    "\n",
    "            data.append(dict(\n",
    "                genre=genre,\n",
    "                subset=subset,\n",
    "                split='total',\n",
    "                size=total_size,\n",
    "                num_notes=sum(total_chant_lengths),\n",
    "                avg_length=np.mean(total_chant_lengths)\n",
    "            ))\n",
    "    return pd.DataFrame(data)"
   ]
  },
  {
   "cell_type": "code",
   "execution_count": 4,
   "metadata": {},
   "outputs": [
    {
     "data": {
      "text/html": [
       "<div>\n",
       "<style scoped>\n",
       "    .dataframe tbody tr th:only-of-type {\n",
       "        vertical-align: middle;\n",
       "    }\n",
       "\n",
       "    .dataframe tbody tr th {\n",
       "        vertical-align: top;\n",
       "    }\n",
       "\n",
       "    .dataframe thead th {\n",
       "        text-align: right;\n",
       "    }\n",
       "</style>\n",
       "<table border=\"1\" class=\"dataframe\">\n",
       "  <thead>\n",
       "    <tr style=\"text-align: right;\">\n",
       "      <th></th>\n",
       "      <th>genre</th>\n",
       "      <th>subset</th>\n",
       "      <th>split</th>\n",
       "      <th>size</th>\n",
       "      <th>num_notes</th>\n",
       "      <th>avg_length</th>\n",
       "    </tr>\n",
       "  </thead>\n",
       "  <tbody>\n",
       "    <tr>\n",
       "      <th>0</th>\n",
       "      <td>responsory</td>\n",
       "      <td>full</td>\n",
       "      <td>train</td>\n",
       "      <td>4922</td>\n",
       "      <td>676807</td>\n",
       "      <td>137.506501</td>\n",
       "    </tr>\n",
       "    <tr>\n",
       "      <th>1</th>\n",
       "      <td>responsory</td>\n",
       "      <td>full</td>\n",
       "      <td>test</td>\n",
       "      <td>2109</td>\n",
       "      <td>290064</td>\n",
       "      <td>137.536273</td>\n",
       "    </tr>\n",
       "    <tr>\n",
       "      <th>2</th>\n",
       "      <td>responsory</td>\n",
       "      <td>full</td>\n",
       "      <td>total</td>\n",
       "      <td>7031</td>\n",
       "      <td>966871</td>\n",
       "      <td>137.515432</td>\n",
       "    </tr>\n",
       "    <tr>\n",
       "      <th>3</th>\n",
       "      <td>responsory</td>\n",
       "      <td>subset</td>\n",
       "      <td>train</td>\n",
       "      <td>1234</td>\n",
       "      <td>169642</td>\n",
       "      <td>137.473258</td>\n",
       "    </tr>\n",
       "    <tr>\n",
       "      <th>4</th>\n",
       "      <td>responsory</td>\n",
       "      <td>subset</td>\n",
       "      <td>test</td>\n",
       "      <td>529</td>\n",
       "      <td>72504</td>\n",
       "      <td>137.058601</td>\n",
       "    </tr>\n",
       "    <tr>\n",
       "      <th>5</th>\n",
       "      <td>responsory</td>\n",
       "      <td>subset</td>\n",
       "      <td>total</td>\n",
       "      <td>1763</td>\n",
       "      <td>242146</td>\n",
       "      <td>137.348837</td>\n",
       "    </tr>\n",
       "    <tr>\n",
       "      <th>6</th>\n",
       "      <td>antiphon</td>\n",
       "      <td>full</td>\n",
       "      <td>train</td>\n",
       "      <td>9706</td>\n",
       "      <td>576738</td>\n",
       "      <td>59.420771</td>\n",
       "    </tr>\n",
       "    <tr>\n",
       "      <th>7</th>\n",
       "      <td>antiphon</td>\n",
       "      <td>full</td>\n",
       "      <td>test</td>\n",
       "      <td>4159</td>\n",
       "      <td>248405</td>\n",
       "      <td>59.727098</td>\n",
       "    </tr>\n",
       "    <tr>\n",
       "      <th>8</th>\n",
       "      <td>antiphon</td>\n",
       "      <td>full</td>\n",
       "      <td>total</td>\n",
       "      <td>13865</td>\n",
       "      <td>825143</td>\n",
       "      <td>59.512658</td>\n",
       "    </tr>\n",
       "    <tr>\n",
       "      <th>9</th>\n",
       "      <td>antiphon</td>\n",
       "      <td>subset</td>\n",
       "      <td>train</td>\n",
       "      <td>2911</td>\n",
       "      <td>190165</td>\n",
       "      <td>65.326348</td>\n",
       "    </tr>\n",
       "    <tr>\n",
       "      <th>10</th>\n",
       "      <td>antiphon</td>\n",
       "      <td>subset</td>\n",
       "      <td>test</td>\n",
       "      <td>1248</td>\n",
       "      <td>82781</td>\n",
       "      <td>66.330929</td>\n",
       "    </tr>\n",
       "    <tr>\n",
       "      <th>11</th>\n",
       "      <td>antiphon</td>\n",
       "      <td>subset</td>\n",
       "      <td>total</td>\n",
       "      <td>4159</td>\n",
       "      <td>272946</td>\n",
       "      <td>65.627795</td>\n",
       "    </tr>\n",
       "  </tbody>\n",
       "</table>\n",
       "</div>"
      ],
      "text/plain": [
       "         genre  subset  split   size  num_notes  avg_length\n",
       "0   responsory    full  train   4922     676807  137.506501\n",
       "1   responsory    full   test   2109     290064  137.536273\n",
       "2   responsory    full  total   7031     966871  137.515432\n",
       "3   responsory  subset  train   1234     169642  137.473258\n",
       "4   responsory  subset   test    529      72504  137.058601\n",
       "5   responsory  subset  total   1763     242146  137.348837\n",
       "6     antiphon    full  train   9706     576738   59.420771\n",
       "7     antiphon    full   test   4159     248405   59.727098\n",
       "8     antiphon    full  total  13865     825143   59.512658\n",
       "9     antiphon  subset  train   2911     190165   65.326348\n",
       "10    antiphon  subset   test   1248      82781   66.330929\n",
       "11    antiphon  subset  total   4159     272946   65.627795"
      ]
     },
     "execution_count": 4,
     "metadata": {},
     "output_type": "execute_result"
    }
   ],
   "source": [
    "get_statistics(run=0)"
   ]
  },
  {
   "cell_type": "code",
   "execution_count": null,
   "metadata": {},
   "outputs": [],
   "source": [
    "get_statistics(run=1)"
   ]
  },
  {
   "cell_type": "code",
   "execution_count": null,
   "metadata": {},
   "outputs": [],
   "source": [
    "get_statistics(run=2)"
   ]
  },
  {
   "cell_type": "code",
   "execution_count": null,
   "metadata": {},
   "outputs": [],
   "source": [
    "get_statistics(run=3)"
   ]
  },
  {
   "cell_type": "code",
   "execution_count": null,
   "metadata": {},
   "outputs": [],
   "source": [
    "get_statistics(run=4)"
   ]
  },
  {
   "cell_type": "code",
   "execution_count": null,
   "metadata": {},
   "outputs": [],
   "source": []
  }
 ],
 "metadata": {
  "kernelspec": {
   "display_name": "Python 3",
   "language": "python",
   "name": "python3"
  },
  "language_info": {
   "codemirror_mode": {
    "name": "ipython",
    "version": 3
   },
   "file_extension": ".py",
   "mimetype": "text/x-python",
   "name": "python",
   "nbconvert_exporter": "python",
   "pygments_lexer": "ipython3",
   "version": "3.7.6"
  }
 },
 "nbformat": 4,
 "nbformat_minor": 4
}
